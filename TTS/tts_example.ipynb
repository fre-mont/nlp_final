{
 "cells": [
  {
   "cell_type": "code",
   "execution_count": 1,
   "metadata": {},
   "outputs": [],
   "source": [
    "import os\n",
    "import torch\n",
    "import torchaudio\n",
    "\n",
    "from TTS.tts.configs.xtts_config import XttsConfig\n",
    "from TTS.tts.models.xtts import Xtts\n"
   ]
  },
  {
   "cell_type": "code",
   "execution_count": 7,
   "metadata": {},
   "outputs": [],
   "source": [
    "\n",
    "# 파일 경로 설정\n",
    "CONFIG_PATH = \"./config.json\"\n",
    "TOKENIZER_PATH = \"./vocab.json\"\n",
    "XTTS_CHECKPOINT = \"./best_model.pth\"\n",
    "SPEAKER_REFERENCE = \"./data/10.wav\"\n",
    "\n",
    "# 설정 로드 및 모델 초기화\n",
    "config = XttsConfig()\n",
    "config.load_json(CONFIG_PATH)\n",
    "model = Xtts.init_from_config(config)\n",
    "model.load_checkpoint(config, checkpoint_path=XTTS_CHECKPOINT, vocab_path=TOKENIZER_PATH, use_deepspeed=False, speaker_file_path=XTTS_CHECKPOINT)\n",
    "# model.cuda()"
   ]
  },
  {
   "cell_type": "code",
   "execution_count": 11,
   "metadata": {},
   "outputs": [],
   "source": [
    "gpt_cond_latent, speaker_embedding = model.get_conditioning_latents(audio_path=[SPEAKER_REFERENCE])\n",
    "\n",
    "\n",
    "def main(prompt):\n",
    "    # output wav path\n",
    "    OUTPUT_WAV_PATH = f\"./{prompt}.wav\"\n",
    "\n",
    "    out = model.inference(\n",
    "        prompt,\n",
    "        \"ko\",\n",
    "        gpt_cond_latent,\n",
    "        speaker_embedding,\n",
    "        temperature=0.7,  # Add custom parameters here\n",
    "    )\n",
    "    torchaudio.save(OUTPUT_WAV_PATH, torch.tensor(out[\"wav\"]).unsqueeze(0), 24000)\n",
    "    print(f\"Output saved to {OUTPUT_WAV_PATH}\")\n",
    "\n",
    "\n",
    "if __name__ == \"__main__\":\n",
    "    main(\"혼자옵서예\")\n"
   ]
  },
  {
   "cell_type": "code",
   "execution_count": null,
   "metadata": {},
   "outputs": [],
   "source": []
  }
 ],
 "metadata": {
  "kernelspec": {
   "display_name": "nlp",
   "language": "python",
   "name": "python3"
  },
  "language_info": {
   "codemirror_mode": {
    "name": "ipython",
    "version": 3
   },
   "file_extension": ".py",
   "mimetype": "text/x-python",
   "name": "python",
   "nbconvert_exporter": "python",
   "pygments_lexer": "ipython3",
   "version": "3.10.13"
  }
 },
 "nbformat": 4,
 "nbformat_minor": 2
}
